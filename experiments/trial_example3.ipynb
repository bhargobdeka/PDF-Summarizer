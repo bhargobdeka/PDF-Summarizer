{
 "cells": [
  {
   "cell_type": "code",
   "execution_count": 23,
   "metadata": {},
   "outputs": [],
   "source": [
    "from common import openai_api_key\n",
    "from langchain import OpenAI\n",
    "from PyPDF2 import PdfReader\n",
    "from langchain.embeddings.openai import OpenAIEmbeddings\n",
    "from langchain.text_splitter import CharacterTextSplitter\n",
    "from langchain.vectorstores import FAISS\n",
    "from langchain.document_loaders import PyPDFLoader\n",
    "from langchain.document_loaders import UnstructuredPDFLoader\n",
    "import os"
   ]
  },
  {
   "cell_type": "code",
   "execution_count": 24,
   "metadata": {},
   "outputs": [],
   "source": [
    "os.environ[\"OPENAI_API_KEY\"]=openai_api_key"
   ]
  },
  {
   "cell_type": "code",
   "execution_count": 30,
   "metadata": {},
   "outputs": [
    {
     "name": "stdout",
     "output_type": "stream",
     "text": [
      "page_content='Received: Added at production Revised: Added at production Accepted: Added at production\\nDOI: xxx/xxxx\\nARTICLE TYPE\\nApproximateGaussianVarianceInferenceforState-SpaceModels\\nBhargob Deka* | James-A. Goulet\\n1Department of Civil, Geologic and Mining\\nEngineering, Polytechnique Montréal,\\nQuébec, Canada\\nCorrespondence\\n*Bhargob Deka, Department of Civil,\\nGeologic and Mining Engineering,\\nPolytechnique Montréal, Montréal, Canada.\\nEmail: bhargob.deka@polymtl.caABSTRACT\\nState-spacemodelsrequireanaccurateknowledgeoftheprocesserror( 𝐐)andmea-\\nsurement error ( 𝐑) covariance matrices for exact state estimation. Even though the\\nmatrix𝐑can be, in many situations, considered to be known from the measuring\\ninstrument specifications, it is still a challenge to infer the 𝐐matrix online while\\nproviding reliable estimates along with a low computational cost. In this paper, we\\npropose an analytically tractable online Bayesian inference method for inferring the\\n𝐐matrix in state-space models. We refer to this method as approximate Gaussian\\nvariance inference (AGVI) using which we are able to treat the error variance and\\ncovariance terms in the full 𝐐matrix as Gaussian hidden states and infer them si-\\nmultaneously with the other hidden states in a closed-form manner. The two case\\nstudies show that the method is able to provide statistically consistent estimates for\\nthe mean and uncertainties of the error variance terms for univariate and multivari-\\natecases.ThemethodalsoexceedstheperformanceoftheexistingadaptiveKalman\\nfilter methods both in terms of accuracy and computational efficiency.\\nKEYWORDS:\\nstate-space models, Bayesian inference, Gaussian multiplicative approximation, closed-form inference,\\nprocess error covariance matrix, online parameter estimation.\\n1INTRODUCTION\\nForlineardynamicsystems,theKalmanfilterisanexactstateestimatoriftheprocesserror( 𝐐)andthemeasurementerror( 𝐑)\\ncovariance matrices are known1. In most practical situations, the deterministic part of the model which includes the transition\\nand the observation models is formulated based on known system dynamics. In contrast, the stochastic part representing the\\n𝐐and𝐑matrices is either unknown or only approximately known2,1,3. Previous studies have also shown that using incorrect\\nerror covariance matrices may result in large estimation errors or even cause divergence1,4,5. Even though in many situations,\\nthe matrix𝐑can be considered to be known from measuring instrument specification, the 𝐐matrix is often unknown. Hence,\\nan accurate estimation of the matrix 𝐐is necessary for the exact state estimation6,4.\\nThis paper provides an analytical Bayesian inference method called the approximate Gaussian variance inference (AGVI)\\nforperformingclosed-formonlineestimationoftheerrorvarianceandcovariancetermsinthefull 𝐐matrix.Bydefinition,the\\nexpected value of the square of the univariate process error 𝑊2is equal to the error variance parameter, i.e., 𝔼[𝑊2] =𝜎2\\n𝑊,\\ngiven that𝑊has a zero mean. With the approximation that 𝑊2is Gaussian such that 𝑊2∼\\ue23a(𝑤2;𝔼[𝑊2],var(𝑊2)), the\\nerror variance parameter is the same as the mean parameter for the probability density function (PDF) of 𝑊2. Subsequently,\\nconsideringthatthismeanparameter 𝔼[𝑊2]isarandomvariableitself,inferringitsposteriorbecomesanalogoustocomputing\\nthe posterior for the error variance term. The AGVI method utilizes this definition and formulates the relationship between\\nthe process error 𝑊, the square of process error 𝑊2, and 𝔼[𝑊2]by leveraging the Gaussian multiplicative approximation' metadata={'source': '../docs/agvi.pdf', 'page': 0}\n"
     ]
    }
   ],
   "source": [
    "# Load the document and try different loading methods\n",
    "loader = PyPDFLoader('../docs/agvi.pdf')\n",
    "pages = loader.load_and_split()\n",
    "print(pages[0])\n"
   ]
  },
  {
   "cell_type": "code",
   "execution_count": 31,
   "metadata": {},
   "outputs": [],
   "source": [
    "# Download embeddings from OpenAI\n",
    "embeddings = OpenAIEmbeddings()"
   ]
  },
  {
   "cell_type": "code",
   "execution_count": 32,
   "metadata": {},
   "outputs": [],
   "source": [
    "from langchain.indexes import VectorstoreIndexCreator\n",
    "index = VectorstoreIndexCreator().from_loaders([loader])"
   ]
  },
  {
   "cell_type": "code",
   "execution_count": 35,
   "metadata": {},
   "outputs": [
    {
     "data": {
      "text/plain": [
       "' The authors of the AGVI paper are DuníkJ, StrakaO, KostO.'"
      ]
     },
     "execution_count": 35,
     "metadata": {},
     "output_type": "execute_result"
    }
   ],
   "source": [
    "query = \"Who are the authors of the AGVI paper?\"\n",
    "index.query(query)"
   ]
  }
 ],
 "metadata": {
  "kernelspec": {
   "display_name": ".venv",
   "language": "python",
   "name": "python3"
  },
  "language_info": {
   "codemirror_mode": {
    "name": "ipython",
    "version": 3
   },
   "file_extension": ".py",
   "mimetype": "text/x-python",
   "name": "python",
   "nbconvert_exporter": "python",
   "pygments_lexer": "ipython3",
   "version": "3.11.4"
  }
 },
 "nbformat": 4,
 "nbformat_minor": 2
}
