{
 "cells": [
  {
   "cell_type": "markdown",
   "metadata": {},
   "source": [
    "1. get openai api key\n"
   ]
  },
  {
   "cell_type": "code",
   "execution_count": 5,
   "metadata": {},
   "outputs": [],
   "source": [
    "from common import openai_api_key\n",
    "\n",
    "from langchain import OpenAI"
   ]
  },
  {
   "cell_type": "markdown",
   "metadata": {},
   "source": [
    "2. define llm model"
   ]
  },
  {
   "cell_type": "code",
   "execution_count": 6,
   "metadata": {},
   "outputs": [],
   "source": [
    "llm = OpenAI(openai_api_key=openai_api_key, temperature=0.9)"
   ]
  },
  {
   "cell_type": "markdown",
   "metadata": {},
   "source": [
    "3. provide prompt"
   ]
  },
  {
   "cell_type": "code",
   "execution_count": 7,
   "metadata": {},
   "outputs": [],
   "source": [
    "prompt = '''Please provide short summary of the following \n",
    "Text:\n",
    "State-space models require an accurate knowledge of the process error (Q)and measurement error (R) covariance matrices for exact state estimation. EventhoughthematrixRcanbe,inmanysituations,consideredtobeknownfromthemeasuring instrument specifications, it is still a challenge to infer theQmatrixonline while providing reliable estimates along with a low computational cost.In this article, we propose an analytically tractable online Bayesian inferencemethod for inferring theQmatrix in state-space models. We refer to this methodasapproximate Gaussian variance inference(AGVI) using which we are able totreat the error variance and covariance terms in the fullQmatrix as Gaussianhidden states and infer them simultaneously with the other hidden states in aclosed-form manner. The two case studies show that the method is able to pro-vide statistically consistent estimates for the mean and uncertainties of the errorvariance terms for univariate and multivariate cases. The method also exceedsthe performance of the existing adaptive Kalman filter methods both in terms ofaccuracy and computational efficiency.\n",
    "''' "
   ]
  },
  {
   "cell_type": "markdown",
   "metadata": {},
   "source": [
    "4. get output for the prompt"
   ]
  },
  {
   "cell_type": "code",
   "execution_count": 8,
   "metadata": {},
   "outputs": [
    {
     "name": "stdout",
     "output_type": "stream",
     "text": [
      "\n",
      "This article presents a new method, approximate Gaussian variance inference (AGVI), for online Bayesian inference of the process error covariance matrix (Q) in state-space models. AGVI is able to treat the error variance and covariance terms in the Q matrix as Gaussian hidden states and infer them simultaneously with the other hidden states in a closed-form manner. Two case studies have demonstrated that AGVI provides statistically consistent estimates for the mean and uncertainties of the error variance terms, and outperforms existing adaptive Kalman filter methods in terms of accuracy and computational efficiency.\n"
     ]
    }
   ],
   "source": [
    "output = llm(prompt)\n",
    "\n",
    "print(output)"
   ]
  }
 ],
 "metadata": {
  "kernelspec": {
   "display_name": ".venv",
   "language": "python",
   "name": "python3"
  },
  "language_info": {
   "codemirror_mode": {
    "name": "ipython",
    "version": 3
   },
   "file_extension": ".py",
   "mimetype": "text/x-python",
   "name": "python",
   "nbconvert_exporter": "python",
   "pygments_lexer": "ipython3",
   "version": "3.11.4"
  }
 },
 "nbformat": 4,
 "nbformat_minor": 2
}
